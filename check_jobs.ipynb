{
 "cells": [
  {
   "cell_type": "code",
   "execution_count": null,
   "id": "3b1a3a64",
   "metadata": {
    "pycharm": {
     "name": "#%%\n"
    }
   },
   "outputs": [],
   "source": [
    "from EMS_cloud_module import cloud\n",
    "from EMS_classes import ibc_team, bucket, folder, ibc_file\n",
    "from cloud_upload_config import url\n",
    "\n",
    "\n",
    "c = ibc_team(url)\n",
    "uppie = cloud(c.team, c.realm, c.apikey)"
   ]
  },
  {
   "cell_type": "code",
   "execution_count": null,
   "id": "46e1cded",
   "metadata": {
    "pycharm": {
     "name": "#%%\n"
    }
   },
   "outputs": [],
   "source": [
    "new_jobs = [job for job in uppie.list_jobs(c.poolid) if job['status'] != 'DONE']\n",
    "new_jobs"
   ]
  },
  {
   "cell_type": "code",
   "execution_count": null,
   "id": "10a9d814",
   "metadata": {
    "pycharm": {
     "name": "#%%\n"
    }
   },
   "outputs": [],
   "source": [
    "new_jobs = set([job['status'] for job in uppie.list_jobs(c.poolid)])\n",
    "new_jobs"
   ]
  },
  {
   "cell_type": "code",
   "execution_count": null,
   "id": "dcbb0b14",
   "metadata": {
    "pycharm": {
     "name": "#%%\n"
    }
   },
   "outputs": [],
   "source": [
    "if False:\n",
    "    for job in new_jobs:\n",
    "        uppie.delete_job(c.poolid, job['id'])"
   ]
  }
 ],
 "metadata": {
  "kernelspec": {
   "display_name": "Python 3 (ipykernel)",
   "language": "python",
   "name": "python3"
  },
  "language_info": {
   "codemirror_mode": {
    "name": "ipython",
    "version": 3
   },
   "file_extension": ".py",
   "mimetype": "text/x-python",
   "name": "python",
   "nbconvert_exporter": "python",
   "pygments_lexer": "ipython3",
   "version": "3.8.6"
  }
 },
 "nbformat": 4,
 "nbformat_minor": 5
}