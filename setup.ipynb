{
 "cells": [
  {
   "cell_type": "code",
   "execution_count": null,
   "metadata": {},
   "outputs": [],
   "source": [
    "import requests\n",
    "import os\n",
    "import time\n",
    "from notebook import notebookapp\n",
    "from pathlib import Path\n",
    "\n",
    "get_auth = {'authorization': f\"AppKey {os.getenv('CELONIS_API_TOKEN')}\"}\n",
    "\n",
    "\n",
    "notebook_id = list(notebookapp.list_running_servers())[0]['base_url'].split('/')[-2]\n",
    "schedule_id = None\n",
    "base_url = os.getenv('CELONIS_URL')\n",
    "cwd = Path.cwd()\n",
    "home = Path.home()\n",
    "exec_file = str(Path(str(cwd).replace(str(home), '')[1:]) / 'EMS_Loader.ipynb') #'testing.ipynb') #\n",
    "\n",
    "# check if schedule for notebook already exists\n",
    "url = f'https://{base_url}/machine-learning/api/scheduling'\n",
    "payload = None\n",
    "r = requests.get(url, headers=get_auth, json=payload)\n",
    "jobs = r.json()\n",
    "for job in jobs:\n",
    "    if job['name'] == 'Setup_from_Notebook':\n",
    "        schedule_id = job['id']\n",
    "\n",
    "# if schedule for notebook doesn't exist, create it\n",
    "if schedule_id is None:\n",
    "    url = f'https://{base_url}/machine-learning/api/scheduling'\n",
    "    payload = {\"name\": \"Setup_from_Notebook\",\n",
    "               \"notebookId\": notebook_id,\n",
    "               \"executeFile\": exec_file,\n",
    "               \"schedulingConfig\": {\"executionPattern\":\"DAILY\",\"minute\":0,\"everyXHours\":2,\"time\":\"00:00\",\"day\":1,\"weekDays\":[],\"customCron\":\"\",\"lastExecutionDate\":None,\"nextExecutionDate\":None},\n",
    "               \"timeUnit\": \"HOURS\",\n",
    "               \"timeout\": 72,\n",
    "               \"maxRetries\": 0,\n",
    "              }\n",
    "    r = requests.post(url, headers=get_auth, json=payload)\n",
    "    schedule_id = r.json()['id']\n",
    "    url = f'https://{base_url}/machine-learning/api/scheduling/{schedule_id}/change-status?status=false'\n",
    "    payload = {'status':False}\n",
    "    r = requests.put(url, headers=get_auth, json=payload)"
   ]
  },
  {
   "cell_type": "code",
   "execution_count": null,
   "metadata": {},
   "outputs": [],
   "source": [
    "# execute the schedule\n",
    "url = f'https://{base_url}/machine-learning/api/scheduling/{schedule_id}/run'\n",
    "r = requests.post(url, headers=get_auth)"
   ]
  },
  {
   "cell_type": "code",
   "execution_count": null,
   "metadata": {},
   "outputs": [],
   "source": [
    "# determine execution id\n",
    "url = f'https://{base_url}/machine-learning/api/scheduling'\n",
    "r = requests.get(url, headers=get_auth).json()\n",
    "for i in r:\n",
    "    if i['id'] == schedule_id:\n",
    "        exec_id = i['lastNotebookExecutionId']\n",
    "        break"
   ]
  },
  {
   "cell_type": "code",
   "execution_count": null,
   "metadata": {},
   "outputs": [],
   "source": [
    "# check for completion and status\n",
    "url = f'https://{base_url}/machine-learning/api/executions/{exec_id}'\n",
    "while True:\n",
    "    time.sleep(2)\n",
    "    r = requests.get(url, headers=get_auth).json()\n",
    "    if r['completed'] is not None:\n",
    "        print(r)\n",
    "        break"
   ]
  }
 ],
 "metadata": {
  "kernelspec": {
   "display_name": "Python 3",
   "language": "python",
   "name": "python3"
  },
  "language_info": {
   "codemirror_mode": {
    "name": "ipython",
    "version": 3
   },
   "file_extension": ".py",
   "mimetype": "text/x-python",
   "name": "python",
   "nbconvert_exporter": "python",
   "pygments_lexer": "ipython3",
   "version": "3.7.6"
  }
 },
 "nbformat": 4,
 "nbformat_minor": 4
}
